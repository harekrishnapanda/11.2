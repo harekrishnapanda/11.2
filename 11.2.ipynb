{
 "cells": [
  {
   "cell_type": "code",
   "execution_count": null,
   "metadata": {},
   "outputs": [],
   "source": [
    "#11.2\n",
    "\n",
    "import numpy as np\n",
    "from sklearn import cluster, datasets\n",
    "from scipy import misc\n",
    "from sklearn.feature_extraction import image\n",
    "from sklearn.cluster import spectral_clustering\n",
    "import time\n",
    "import matplotlib.pyplot as plt\n",
    "\n",
    "face = misc.face(gray=True)\n",
    "plt.figure(figsize=(12,8))\n",
    "plt.imshow(face,cmap=plt.cm.gray)\n",
    "plt.title('1-Original Image')\n",
    "\n",
    "# Resize it to 30% of the original size to speed up the processing\n",
    "facecomp = misc.imresize(face, 0.30) / 255.\n",
    "plt.figure(figsize=(12,8))\n",
    "plt.imshow(facecomp,cmap=plt.cm.gray)\n",
    "plt.title('2-Compressed Image')\n",
    "\n",
    "beta = 5\n",
    "eps = 1e-6\n",
    "graph = image.img_to_graph(facecomp)\n",
    "graph.data = np.exp(-beta * graph.data / graph.data.std()) + eps\n",
    "\n",
    "# Applying spectral clustering \n",
    "K = 5\n",
    "\n",
    "#Visualizing the resulting regions\n",
    "for assign_labels in ('kmeans', 'discretize'):\n",
    "    t0 = time.time()\n",
    "    labels = spectral_clustering(graph, n_clusters=K,\n",
    "                                 assign_labels=assign_labels, random_state=1)\n",
    "    t1 = time.time()\n",
    "    labels = labels.reshape(facecomp.shape)\n",
    "\n",
    "    plt.figure(figsize=(5, 5))\n",
    "    plt.imshow(facecomp, cmap=plt.cm.gray)\n",
    "    for l in range(K):\n",
    "        plt.contour(labels == l, contours=1,\n",
    "                    colors=[plt.cm.nipy_spectral(l / float(K))])\n",
    "    plt.xticks(())\n",
    "    plt.yticks(())\n",
    "    title = 'Spectral clustering: %s, %.2fs' % (assign_labels, (t1 - t0))\n",
    "    print(title)\n",
    "    plt.title('3-Fianl Image after clustering')\n",
    "plt.show()"
   ]
  }
 ],
 "metadata": {
  "kernelspec": {
   "display_name": "Python 3",
   "language": "python",
   "name": "python3"
  },
  "language_info": {
   "codemirror_mode": {
    "name": "ipython",
    "version": 3
   },
   "file_extension": ".py",
   "mimetype": "text/x-python",
   "name": "python",
   "nbconvert_exporter": "python",
   "pygments_lexer": "ipython3",
   "version": "3.6.5"
  }
 },
 "nbformat": 4,
 "nbformat_minor": 2
}
